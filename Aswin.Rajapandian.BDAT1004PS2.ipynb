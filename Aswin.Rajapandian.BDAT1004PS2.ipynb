{
 "cells": [
  {
   "cell_type": "markdown",
   "id": "6865ea72",
   "metadata": {},
   "source": [
    "#Question 1"
   ]
  },
  {
   "cell_type": "code",
   "execution_count": null,
   "id": "02c3c013",
   "metadata": {},
   "outputs": [],
   "source": [
    "a = 0\n",
    "def b():\n",
    "    global a\n",
    "    a = c(a)\n",
    "def c(a):\n",
    "    return a + 2\n",
    "\n",
    "print(b())\n",
    "print(b())\n",
    "print(b())\n",
    "print(a)"
   ]
  },
  {
   "cell_type": "markdown",
   "id": "6dae2799",
   "metadata": {},
   "source": [
    "Value 6 is displayed when the last expression (a) is evaluated. \n",
    "Initially the value of a is set to 0. When the program is executed the print(b()) statement calls the function def b() which contains the global variable a. The value of c(a) is set to variable a which initially will be 0. When the function def c(a) is called the value of a is passed and the return statement returns the value of a + 2. After this the value of a is changed from 0 to 2. As there are 2 more print(b()) statements the value of a is increased from 2 to 4 to 6 in the same way as mentioned above and finally the print(a) statement prints the value of a which is now '6'."
   ]
  },
  {
   "cell_type": "markdown",
   "id": "2867f262",
   "metadata": {},
   "source": [
    "#Question 2"
   ]
  },
  {
   "cell_type": "code",
   "execution_count": 3,
   "id": "5705b134",
   "metadata": {},
   "outputs": [
    {
     "name": "stdout",
     "output_type": "stream",
     "text": [
      "358\n",
      "\n",
      "File idterm.py not found.\n"
     ]
    }
   ],
   "source": [
    "def fileLength(x):\n",
    "    file_name=x\n",
    "    \n",
    "    if file_name.endswith('.py'):\n",
    "        try:\n",
    "            file = open(file_name)\n",
    "            contents = file.read()\n",
    "            file.close()\n",
    "            print(len(contents))\n",
    "        except:\n",
    "            print(\"File \" + (file_name) + \" not found.\")\n",
    "        else:\n",
    "            print(\"\")\n",
    "\n",
    "fileLength('midterm.py')\n",
    "fileLength('idterm.py')"
   ]
  },
  {
   "cell_type": "markdown",
   "id": "3c0de08e",
   "metadata": {},
   "source": [
    "#Question 3"
   ]
  },
  {
   "cell_type": "code",
   "execution_count": 4,
   "id": "c131b093",
   "metadata": {},
   "outputs": [
    {
     "name": "stdout",
     "output_type": "stream",
     "text": [
      "I am a Kangaroo located at coordinates (0,0)\n",
      "['doll', 'firetruck', 'kitten']\n",
      "I am a Kangaroo located at coordinates (3,0)\n"
     ]
    }
   ],
   "source": [
    "# m=Marsupial()\n",
    "# m.put_in_pouch(\"doll\")\n",
    "# m.put_in_pouch(\"firetruck\")\n",
    "# m.put_in_pouch(\"kitten\")\n",
    "# m.pouch_contents('doll','firetruck','kitten')\n",
    "class Marsupial:\n",
    "    def __init__(self):\n",
    "        self.array=[]\n",
    "    def put_in_pouch(self,x):\n",
    "        self.array.append(x)\n",
    "    def pouch_contents(self):\n",
    "        print(self.array)\n",
    "class Kangaroo(Marsupial):\n",
    "    def __init__(self,x_coordinate,y_coordinate):\n",
    "        super().__init__()\n",
    "        self.x=x_coordinate\n",
    "        self.y=y_coordinate\n",
    "    def jump(self,dx,dy):\n",
    "        self.x+=dx\n",
    "        self.y+=dy\n",
    "    def __str__(self):\n",
    "        return \"I am a Kangaroo located at coordinates ({0},{1})\".format(self.x,self.y)\n",
    "k=Kangaroo(0,0)\n",
    "print(k)\n",
    "k.jump(1,0)\n",
    "k.jump(1,0)\n",
    "k.jump(1,0)\n",
    "k.put_in_pouch('doll')\n",
    "k.put_in_pouch('firetruck')\n",
    "k.put_in_pouch('kitten')\n",
    "k.pouch_contents()\n",
    "print(k)"
   ]
  },
  {
   "cell_type": "markdown",
   "id": "f5836653",
   "metadata": {},
   "source": [
    "#Question 4"
   ]
  },
  {
   "cell_type": "code",
   "execution_count": 5,
   "id": "b415fe3b",
   "metadata": {},
   "outputs": [
    {
     "name": "stdout",
     "output_type": "stream",
     "text": [
      "1\n",
      "10\n",
      "5\n",
      "16\n",
      "8\n",
      "4\n",
      "2\n",
      "1\n"
     ]
    }
   ],
   "source": [
    "def collatz(number):\n",
    "    print(number)\n",
    "    if number == 1:\n",
    "        return \n",
    "    if number % 2 == 0:\n",
    "        return (collatz(number // 2))\n",
    "    if number % 2 == 1:\n",
    "        return(collatz((number * 3) + 1))\n",
    "    else:\n",
    "        print(\"Something went wrong in collatz\")\n",
    "        return\n",
    "\n",
    "collatz(1)\n",
    "collatz(10)"
   ]
  },
  {
   "cell_type": "markdown",
   "id": "53671304",
   "metadata": {},
   "source": [
    "#Question 5"
   ]
  },
  {
   "cell_type": "code",
   "execution_count": 6,
   "id": "81f3ed42",
   "metadata": {},
   "outputs": [
    {
     "name": "stdout",
     "output_type": "stream",
     "text": [
      " \n",
      " 0  \n",
      " 1  \n",
      " 1  1  \n",
      " 1  0  0  1 "
     ]
    }
   ],
   "source": [
    "def binary(n):\n",
    "    a=' '\n",
    "    a +=str(n%2)           \n",
    "    if(n//2!=0):\n",
    "            binary(n//2)\n",
    "    else:\n",
    "        print(\" \")\n",
    "    print(a,end= ' ')\n",
    "binary(0)            \n",
    "binary(1)\n",
    "binary(3)\n",
    "binary(9)"
   ]
  },
  {
   "cell_type": "markdown",
   "id": "733ec2b9",
   "metadata": {},
   "source": [
    "#Question 6"
   ]
  },
  {
   "cell_type": "code",
   "execution_count": 7,
   "id": "871ce541",
   "metadata": {},
   "outputs": [
    {
     "name": "stdout",
     "output_type": "stream",
     "text": [
      "W3C Mission\n",
      " Principles\n"
     ]
    }
   ],
   "source": [
    "from html.parser import HTMLParser\n",
    "\n",
    "test_param = False\n",
    "count = 0\n",
    "\n",
    "def space_generate(count):\n",
    "    space_str = \"\"\n",
    "    for i in range(0,count):\n",
    "        space_str += \" \"\n",
    "    return space_str\n",
    "\n",
    "class HeadingParser(HTMLParser):\n",
    "    def handle_starttag(self, tag, data):\n",
    "        global test_param\n",
    "        if tag in ['h1','h2']:\n",
    "            test_param = True\n",
    "            \n",
    "    def handle_data(self,data):\n",
    "        global test_param\n",
    "        global count\n",
    "        if test_param == True:\n",
    "            test_param = False\n",
    "            modified_data = space_generate(count) + data\n",
    "            print(modified_data)\n",
    "            count += 1\n",
    "            \n",
    "        \n",
    "infile = open('C:/Users/Ashwin/w3c.txt')\n",
    "content = infile.read()\n",
    "infile.close()\n",
    "hp = HeadingParser()\n",
    "hp.feed(content)"
   ]
  },
  {
   "cell_type": "markdown",
   "id": "23d53cee",
   "metadata": {},
   "source": [
    "#Question 7"
   ]
  },
  {
   "cell_type": "code",
   "execution_count": 1,
   "id": "c8bb4a0f",
   "metadata": {},
   "outputs": [
    {
     "name": "stdout",
     "output_type": "stream",
     "text": [
      " http://reed.cs.depaul.edu/lperkovic/test1.html\n",
      "\n"
     ]
    },
    {
     "ename": "NameError",
     "evalue": "name 'depthresult' is not defined",
     "output_type": "error",
     "traceback": [
      "\u001b[1;31m---------------------------------------------------------------------------\u001b[0m",
      "\u001b[1;31mNameError\u001b[0m                                 Traceback (most recent call last)",
      "Input \u001b[1;32mIn [1]\u001b[0m, in \u001b[0;36m<cell line: 21>\u001b[1;34m()\u001b[0m\n\u001b[0;32m     19\u001b[0m link \u001b[38;5;241m=\u001b[39m urlopen(URL)\n\u001b[0;32m     20\u001b[0m webpage \u001b[38;5;241m=\u001b[39m link\u001b[38;5;241m.\u001b[39mread()\u001b[38;5;241m.\u001b[39mdecode()\n\u001b[1;32m---> 21\u001b[0m \u001b[43mwebdir\u001b[49m\u001b[43m(\u001b[49m\u001b[43mURL\u001b[49m\u001b[43m,\u001b[49m\u001b[38;5;241;43m2\u001b[39;49m\u001b[43m,\u001b[49m\u001b[38;5;241;43m0\u001b[39;49m\u001b[43m)\u001b[49m\n",
      "Input \u001b[1;32mIn [1]\u001b[0m, in \u001b[0;36mwebdir\u001b[1;34m(URL, depth, indent)\u001b[0m\n\u001b[0;32m     13\u001b[0m \u001b[38;5;28;01melse\u001b[39;00m:\n\u001b[0;32m     14\u001b[0m     \u001b[38;5;28mprint\u001b[39m(\u001b[38;5;124m\"\u001b[39m\u001b[38;5;124m\"\u001b[39m)\n\u001b[1;32m---> 15\u001b[0m \u001b[38;5;28;01mfor\u001b[39;00m i \u001b[38;5;129;01min\u001b[39;00m \u001b[43mdepthresult\u001b[49m: \n\u001b[0;32m     16\u001b[0m     webdir(i, depth\u001b[38;5;241m-\u001b[39m\u001b[38;5;241m1\u001b[39m, indent\u001b[38;5;241m+\u001b[39m\u001b[38;5;241m1\u001b[39m)\n",
      "\u001b[1;31mNameError\u001b[0m: name 'depthresult' is not defined"
     ]
    }
   ],
   "source": [
    "from urllib.request import urlopen\n",
    "from urllib.parse import urljoin\n",
    "from html.parser import HTMLParser\n",
    "\n",
    "\n",
    "def webdir(URL,depth,indent):\n",
    "        \n",
    "        global depthresult\n",
    "        pagereachable = (indent * \"\" + URL)\n",
    "        print(pagereachable)\n",
    "        if depth == 0:\n",
    "            return\n",
    "        else:\n",
    "            print(\"\")\n",
    "        for i in depthresult: \n",
    "            webdir(i, depth-1, indent+1)    \n",
    "\n",
    "URL = ' http://reed.cs.depaul.edu/lperkovic/test1.html'\n",
    "link = urlopen(URL)\n",
    "webpage = link.read().decode()\n",
    "webdir(URL,2,0)  "
   ]
  },
  {
   "cell_type": "markdown",
   "id": "b92e2c88",
   "metadata": {},
   "source": [
    "#Question 8"
   ]
  },
  {
   "cell_type": "markdown",
   "id": "2211392c",
   "metadata": {},
   "source": [
    "**As Table Name is not mentioned in the Problem Set, I'm considering the table name as 'climatedata' and entering the SQL queries**\n",
    "\n",
    "1. SELECT Temperature FROM climatedata\n",
    "\n",
    "2. SELECT distinct City FROM climatedata\n",
    "\n",
    "3. SELECT * FROM climatedata where Country='India'\n",
    "\n",
    "4. SELECT Rainfall FROM climatedata\n",
    "\n",
    "5. SELECT City,Country, Season FROM climatedata where Rainfall between 200 and 400\n",
    "\n",
    "6. SELECT City, Country FROM climatedata where Temperature > 20 order by Temperature\n",
    "\n",
    "7. SELECT sum(Rainfall) FROM climatedata where City='Cairo'\n",
    "\n",
    "8. SELECT Season,sum(Rainfall) FROM climatedata group by Season"
   ]
  },
  {
   "cell_type": "markdown",
   "id": "f318a1b3",
   "metadata": {},
   "source": [
    "#Question 9"
   ]
  },
  {
   "cell_type": "code",
   "execution_count": 8,
   "id": "643c76c6",
   "metadata": {},
   "outputs": [
    {
     "name": "stdout",
     "output_type": "stream",
     "text": [
      "['THE', 'QUICK', 'BROWN', 'FOX', 'JUMPS', 'OVER', 'THE', 'LAZY', 'DOG']\n"
     ]
    }
   ],
   "source": [
    "#Solution to Question 9.a)\n",
    "\n",
    "words = ['The', 'quick', 'brown', 'fox', 'jumps', 'over', 'the', 'lazy', 'dog']\n",
    "Words_list = [string.upper() for string in words]\n",
    "\n",
    "print(Words_list)"
   ]
  },
  {
   "cell_type": "code",
   "execution_count": 9,
   "id": "287d62ec",
   "metadata": {},
   "outputs": [
    {
     "name": "stdout",
     "output_type": "stream",
     "text": [
      "['the', 'quick', 'brown', 'fox', 'jumps', 'over', 'the', 'lazy', 'dog']\n"
     ]
    }
   ],
   "source": [
    "#Solution to Question 9.b)\n",
    "\n",
    "words = ['The', 'quick', 'brown', 'fox', 'jumps', 'over', 'the', 'lazy', 'dog']\n",
    "\n",
    "Words_list = [string.lower() for string in words]\n",
    "\n",
    "print(Words_list)"
   ]
  },
  {
   "cell_type": "code",
   "execution_count": 1,
   "id": "e6a9ebfd",
   "metadata": {},
   "outputs": [
    {
     "name": "stdout",
     "output_type": "stream",
     "text": [
      "[3, 5, 5, 3, 5, 4, 3, 4, 3]\n",
      "Total number of words inside the list words is :  9\n"
     ]
    }
   ],
   "source": [
    "#Solution to Question 9.c)\n",
    "\n",
    "words = ['The', 'quick', 'brown', 'fox', 'jumps', 'over', 'the', 'lazy', 'dog']\n",
    "length_of_word_in_words = [3, 5, 5, 3, 5, 4, 3, 4, 3]\n",
    "total_length=[]\n",
    "for i in words:\n",
    "    total_length.append(len(i))\n",
    "print(total_length)\n",
    "print(\"Total number of words inside the list words is : \", len(words))"
   ]
  },
  {
   "cell_type": "code",
   "execution_count": 2,
   "id": "e714dcbd",
   "metadata": {},
   "outputs": [
    {
     "name": "stdout",
     "output_type": "stream",
     "text": [
      "[['THE', 'the', 3], ['QUICK', 'quick', 5], ['BROWN', 'brown', 5], ['FOX', 'fox', 3], ['JUMPS', 'jumps', 5], ['OVER', 'over', 4], ['THE', 'the', 3], ['LAZY', 'lazy', 4], ['DOG', 'dog', 3]]\n"
     ]
    }
   ],
   "source": [
    "#Solution to Question 9.d)\n",
    "\n",
    "words = ['The', 'quick', 'brown', 'fox', 'jumps', 'over', 'the', 'lazy', 'dog']\n",
    "outside_list=[]\n",
    "for i in words:\n",
    "    inside_list=[]\n",
    "    inside_list.append(i.upper())\n",
    "    inside_list.append(i.lower())\n",
    "    inside_list.append(len(i))\n",
    "    outside_list.append(inside_list)\n",
    "print(outside_list)"
   ]
  },
  {
   "cell_type": "code",
   "execution_count": 3,
   "id": "b110ce9b",
   "metadata": {},
   "outputs": [
    {
     "name": "stdout",
     "output_type": "stream",
     "text": [
      "['quick', 'brown', 'jumps', 'over', 'lazy']\n"
     ]
    }
   ],
   "source": [
    "#Solution to Question 9.e)\n",
    "\n",
    "words = ['The', 'quick', 'brown', 'fox', 'jumps', 'over', 'the', 'lazy', 'dog']\n",
    "characters_in_list = [words for words in words if len(words) >=4]\n",
    "print(characters_in_list)"
   ]
  }
 ],
 "metadata": {
  "kernelspec": {
   "display_name": "Python 3 (ipykernel)",
   "language": "python",
   "name": "python3"
  },
  "language_info": {
   "codemirror_mode": {
    "name": "ipython",
    "version": 3
   },
   "file_extension": ".py",
   "mimetype": "text/x-python",
   "name": "python",
   "nbconvert_exporter": "python",
   "pygments_lexer": "ipython3",
   "version": "3.9.12"
  }
 },
 "nbformat": 4,
 "nbformat_minor": 5
}
